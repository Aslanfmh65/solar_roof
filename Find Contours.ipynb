{
 "cells": [
  {
   "cell_type": "code",
   "execution_count": 1,
   "metadata": {},
   "outputs": [],
   "source": [
    "import numpy as np\n",
    "import matplotlib.pyplot as plt\n",
    "from matplotlib import patches\n",
    "import cv2\n",
    "from scipy import ndimage\n",
    "from skimage import measure\n",
    "from skimage import util\n",
    "from pylab import *\n",
    "import itertools\n",
    "import argparse\n",
    "import imutils"
   ]
  },
  {
   "cell_type": "code",
   "execution_count": 91,
   "metadata": {},
   "outputs": [],
   "source": [
    "image = cv2.imread(\"test.png\")\n",
    "# image = cv2.imread('perfect_outline/roof1.png')\n",
    "gray = cv2.cvtColor(image, cv2.COLOR_BGR2GRAY)"
   ]
  },
  {
   "cell_type": "markdown",
   "metadata": {},
   "source": [
    "## Find contours"
   ]
  },
  {
   "cell_type": "code",
   "execution_count": 97,
   "metadata": {},
   "outputs": [
    {
     "name": "stdout",
     "output_type": "stream",
     "text": [
      "uint8\n",
      "255\n",
      "0\n"
     ]
    }
   ],
   "source": [
    "print(gray.dtype)\n",
    "print(gray.max())\n",
    "print(gray.min())"
   ]
  },
  {
   "cell_type": "code",
   "execution_count": 94,
   "metadata": {},
   "outputs": [
    {
     "data": {
      "image/png": "[encoded data removed]",
      "text/plain": [
       "<matplotlib.figure.Figure at 0x11bf7b048>"
      ]
     },
     "metadata": {},
     "output_type": "display_data"
    }
   ],
   "source": [
    "_, contours, _ = cv2.findContours(gray, cv2.RETR_EXTERNAL, cv2.CHAIN_APPROX_SIMPLE)\n",
    "black = np.zeros_like(image)\n",
    "for cnt in contours:\n",
    "    epsilon = 0.01*cv2.arcLength(cnt, True)\n",
    "    approx = cv2.approxPolyDP(cnt, epsilon, True)  # approximate corner points in polygon\n",
    "    lines = cv2.drawContours(black, [approx], 0, (255, 255, 255), 7)\n",
    "    \n",
    "plt.figure(\"Example 2\")\n",
    "plt.imshow(lines)\n",
    "plt.title(\"Binary Contours in an image - Polynomial Approximation\")\n",
    "plt.show()"
   ]
  },
  {
   "cell_type": "code",
   "execution_count": 95,
   "metadata": {},
   "outputs": [
    {
     "data": {
      "text/plain": [
       "array([[[0, 0, 0],\n",
       "        [0, 0, 0],\n",
       "        [0, 0, 0],\n",
       "        ...,\n",
       "        [0, 0, 0],\n",
       "        [0, 0, 0],\n",
       "        [0, 0, 0]],\n",
       "\n",
       "       [[0, 0, 0],\n",
       "        [0, 0, 0],\n",
       "        [0, 0, 0],\n",
       "        ...,\n",
       "        [0, 0, 0],\n",
       "        [0, 0, 0],\n",
       "        [0, 0, 0]],\n",
       "\n",
       "       [[0, 0, 0],\n",
       "        [0, 0, 0],\n",
       "        [0, 0, 0],\n",
       "        ...,\n",
       "        [0, 0, 0],\n",
       "        [0, 0, 0],\n",
       "        [0, 0, 0]],\n",
       "\n",
       "       ...,\n",
       "\n",
       "       [[0, 0, 0],\n",
       "        [0, 0, 0],\n",
       "        [0, 0, 0],\n",
       "        ...,\n",
       "        [0, 0, 0],\n",
       "        [0, 0, 0],\n",
       "        [0, 0, 0]],\n",
       "\n",
       "       [[0, 0, 0],\n",
       "        [0, 0, 0],\n",
       "        [0, 0, 0],\n",
       "        ...,\n",
       "        [0, 0, 0],\n",
       "        [0, 0, 0],\n",
       "        [0, 0, 0]],\n",
       "\n",
       "       [[0, 0, 0],\n",
       "        [0, 0, 0],\n",
       "        [0, 0, 0],\n",
       "        ...,\n",
       "        [0, 0, 0],\n",
       "        [0, 0, 0],\n",
       "        [0, 0, 0]]], dtype=uint8)"
      ]
     },
     "execution_count": 95,
     "metadata": {},
     "output_type": "execute_result"
    }
   ],
   "source": [
    "lines"
   ]
  },
  {
   "cell_type": "markdown",
   "metadata": {},
   "source": [
    "## Find contour box"
   ]
  },
  {
   "cell_type": "code",
   "execution_count": 67,
   "metadata": {},
   "outputs": [],
   "source": [
    "# for cnt in contours:\n",
    "#     rect = cv2.minAreaRect(cnt)\n",
    "#     box = cv2.boxPoints(rect)\n",
    "#     box = np.int0(box)\n",
    "#     image = cv2.drawContours(image, [box], 0, (0, 255, 0), 3)\n",
    "\n",
    "# plt.figure(\"Example 1\")\n",
    "# plt.imshow(image)\n",
    "# plt.title(\"Binary Contours in an image\")\n",
    "# plt.show()"
   ]
  },
  {
   "cell_type": "markdown",
   "metadata": {},
   "source": [
    "## Using skimage"
   ]
  },
  {
   "cell_type": "code",
   "execution_count": 2,
   "metadata": {},
   "outputs": [],
   "source": [
    "# from skimage import measure\n",
    "# contours = measure.find_contours(image, 0.8)\n",
    "\n",
    "# black = np.zeros_like(image)\n",
    "\n",
    "# fig, ax = plt.subplots()\n",
    "# ax.imshow(black, interpolation='nearest', cmap=plt.cm.gray)\n",
    "\n",
    "# for n, contour in enumerate(contours):\n",
    "#     a = ax.plot(contour[:, 1], contour[:, 0], color='white', linewidth=5)"
   ]
  },
  {
   "cell_type": "code",
   "execution_count": null,
   "metadata": {},
   "outputs": [],
   "source": [
    "points = \"points_select\" # points layer\n",
    "sr = arcpy.Describe(points).spatialReference # get CRS\n",
    "lines = \"roads_select\" # roads feature class containing single, merged feature for all roads\n",
    "out_lines = [] # output list\n",
    "line_geom = [i[0] for i in arcpy.da.SearchCursor(lines,'SHAPE@',spatial_reference=sr)] # the road feature\n",
    "with arcpy.da.SearchCursor(points,'SHAPE@') as cursor: # loop through points\n",
    "for row in cursor:\n",
    "    end = line_geom[0].queryPointAndDistance(row[0])[0].centroid # get nearest point on line\n",
    "    start = row[0].centroid \n",
    "    out_lines.append(arcpy.Polyline(arcpy.Array([start,end]),sr)) # connect the dots and add to line list\n",
    "    arcpy.CopyFeatures_management(out_lines,r'in_memory\\out_lines') # write line list to disk"
   ]
  }
 ],
 "metadata": {
  "kernelspec": {
   "display_name": "Python 3",
   "language": "python",
   "name": "python3"
  },
  "language_info": {
   "codemirror_mode": {
    "name": "ipython",
    "version": 3
   },
   "file_extension": ".py",
   "mimetype": "text/x-python",
   "name": "python",
   "nbconvert_exporter": "python",
   "pygments_lexer": "ipython3",
   "version": "3.6.4"
  }
 },
 "nbformat": 4,
 "nbformat_minor": 2
}
