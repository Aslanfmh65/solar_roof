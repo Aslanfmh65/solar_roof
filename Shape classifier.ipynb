{
 "cells": [
  {
   "cell_type": "code",
   "execution_count": 82,
   "metadata": {},
   "outputs": [],
   "source": [
    "import matplotlib.pyplot as plt\n",
    "import pandas as pd\n",
    "import numpy as np\n",
    "import cv2\n",
    "from skimage import util\n",
    "from scipy import ndimage\n",
    "from skimage import measure\n",
    "\n",
    "from sklearn import svm\n",
    "from sklearn.naive_bayes import GaussianNB\n",
    "from sklearn.linear_model import LogisticRegression\n",
    "from sklearn.tree import DecisionTreeClassifier\n",
    "from sklearn.discriminant_analysis import LinearDiscriminantAnalysis\n",
    "from sklearn.neighbors import KNeighborsClassifier\n",
    "\n",
    "from sklearn.feature_selection import SelectKBest\n",
    "from sklearn.feature_selection import chi2\n",
    "from sklearn.model_selection import train_test_split\n",
    "\n",
    "%matplotlib inline"
   ]
  },
  {
   "cell_type": "code",
   "execution_count": 19,
   "metadata": {},
   "outputs": [],
   "source": [
    "names = ['N1','N2','N3','N4','N5','N6','N7']\n",
    "triangle = pd.read_csv(\"Hu_moments/triangle_data.csv\", names=names)\n",
    "trapezoid = pd.read_csv(\"Hu_moments/trapezoid_data.csv\", names=names)\n",
    "shape_set = pd.read_csv(\"Hu_moments/shape_data.csv\")"
   ]
  },
  {
   "cell_type": "code",
   "execution_count": 20,
   "metadata": {},
   "outputs": [
    {
     "data": {
      "image/png": "[encoded data removed]",
      "text/plain": [
       "<matplotlib.figure.Figure at 0x11167ff60>"
      ]
     },
     "metadata": {},
     "output_type": "display_data"
    }
   ],
   "source": [
    "triangle.hist()\n",
    "\n",
    "plt.show()"
   ]
  },
  {
   "cell_type": "code",
   "execution_count": 21,
   "metadata": {},
   "outputs": [
    {
     "data": {
      "image/png": "[encoded data removed]",
      "text/plain": [
       "<matplotlib.figure.Figure at 0x11132cf98>"
      ]
     },
     "metadata": {},
     "output_type": "display_data"
    }
   ],
   "source": [
    "trapezoid.hist()\n",
    "plt.show()"
   ]
  },
  {
   "cell_type": "code",
   "execution_count": 38,
   "metadata": {},
   "outputs": [
    {
     "name": "stdout",
     "output_type": "stream",
     "text": [
      "2000\n",
      "(1600, 4) (1600,)\n",
      "(400, 4) (400,)\n"
     ]
    }
   ],
   "source": [
    "array = shape_set.values\n",
    "print(len(array))\n",
    "X = array[:,0:4]\n",
    "Y = array[:,7]\n",
    "X_train, X_test, Y_train, Y_test = train_test_split(X, Y, test_size=0.2)\n",
    "\n",
    "print (X_train.shape, Y_train.shape)\n",
    "print (X_test.shape, Y_test.shape)"
   ]
  },
  {
   "cell_type": "code",
   "execution_count": 80,
   "metadata": {},
   "outputs": [
    {
     "data": {
      "text/plain": [
       "LogisticRegression(C=1.0, class_weight=None, dual=False, fit_intercept=True,\n",
       "          intercept_scaling=1, max_iter=100, multi_class='ovr', n_jobs=1,\n",
       "          penalty='l2', random_state=None, solver='liblinear', tol=0.0001,\n",
       "          verbose=0, warm_start=False)"
      ]
     },
     "execution_count": 80,
     "metadata": {},
     "output_type": "execute_result"
    }
   ],
   "source": [
    "clf = svm.SVC()\n",
    "clf.fit(X_train, Y_train)\n",
    "\n",
    "gnb = GaussianNB()\n",
    "gnb.fit(X_train, Y_train)\n",
    "\n",
    "dtc = DecisionTreeClassifier()\n",
    "dtc.fit(X_train, Y_train)\n",
    "\n",
    "kc = KNeighborsClassifier()\n",
    "kc.fit(X_train, Y_train)\n",
    "\n",
    "lda = LinearDiscriminantAnalysis()\n",
    "lda.fit(X_train, Y_train)\n",
    "\n",
    "lr = LogisticRegression()\n",
    "lr.fit(X_train, Y_train)"
   ]
  },
  {
   "cell_type": "code",
   "execution_count": 81,
   "metadata": {},
   "outputs": [
    {
     "name": "stdout",
     "output_type": "stream",
     "text": [
      "SVM Score: 0.665\n",
      "Naive Bayes Score: 0.6925\n",
      "k-Nearest Neighbors Score: 0.6125\n",
      "Decision Tree Classifier Score: 0.6275\n",
      "Linear Discriminant Analysis Score: 0.7225\n",
      "Logistic Regression Score: 0.6875\n"
     ]
    }
   ],
   "source": [
    "svm_predict = clf.predict(X_test)\n",
    "gnb_predict = gnb.predict(X_test)\n",
    "dtc_predict = dtc.predict(X_test)\n",
    "kc_predict = kc.predict(X_test)\n",
    "lda_predict = lda.predict(X_test)\n",
    "lr_predict = lr.predict(X_test)\n",
    "\n",
    "print ('SVM Score:', clf.score(X_test, Y_test))\n",
    "print ('Naive Bayes Score:', gnb.score(X_test, Y_test))\n",
    "print ('k-Nearest Neighbors Score:', kc.score(X_test, Y_test))\n",
    "print ('Decision Tree Classifier Score:', dtc.score(X_test, Y_test))\n",
    "print ('Linear Discriminant Analysis Score:', lda.score(X_test, Y_test))\n",
    "print ('Logistic Regression Score:', lr.score(X_test, Y_test))"
   ]
  },
  {
   "cell_type": "code",
   "execution_count": 45,
   "metadata": {},
   "outputs": [
    {
     "name": "stderr",
     "output_type": "stream",
     "text": [
      "/anaconda2/envs/py36-test/lib/python3.6/site-packages/ipykernel_launcher.py:13: DeprecationWarning: This function is deprecated. Please call randint(1, 300 + 1) instead\n",
      "  del sys.path[0]\n"
     ]
    },
    {
     "data": {
      "image/png": "[encoded data removed]",
      "text/plain": [
       "<matplotlib.figure.Figure at 0x11336ef98>"
      ]
     },
     "metadata": {},
     "output_type": "display_data"
    }
   ],
   "source": [
    "# count = 0\n",
    "# triangle_data = []\n",
    "# while count < 20:\n",
    "    \n",
    "#     # Define size limit\n",
    "#     square_size = 300\n",
    "    \n",
    "#     # Create white rectangle space\n",
    "#     img = np.zeros((square_size,square_size,3), np.uint8)\n",
    "#     img = util.invert(img)\n",
    "    \n",
    "#     # Generate polygon coordinate randomly\n",
    "#     triangle = np.random.random_integers(square_size, size=(3,2))\n",
    "    \n",
    "#     # Generate polygon based on its coordinate\n",
    "#     pts = np.array(triangle, np.int32)\n",
    "#     pts = pts.reshape((-1,1,2))\n",
    "#     polygon = cv2.polylines(img,[pts],True,(0,0,0),thickness=5)\n",
    "\n",
    "    \n",
    "#     # Extract feature polygon\n",
    "#     labeled_array, num_features = ndimage.label(polygon)\n",
    "#     labeled_array = np.float32(labeled_array)\n",
    "\n",
    "    \n",
    "#     # Based on the observation, only when num_features=2 polygon are useful\n",
    "#     if num_features == 2:\n",
    "        \n",
    "#         region = list(np.where(labeled_array == 2))\n",
    "\n",
    "#         arr = np.zeros(img.shape)\n",
    "#         poly1 = zip(region[0], region[1])\n",
    "#         for i in poly1:\n",
    "#             arr[i] = 1\n",
    "#         arr = util.invert(arr)\n",
    "#         plt.imshow(arr, cmap='gray')\n",
    "#         plt.savefig('hi.png')  \n",
    "# #         plt.show()\n",
    "        \n",
    "#         image = cv2.imread('hi.png')\n",
    "#         feature_poly = cv2.cvtColor(image, cv2.COLOR_BGR2GRAY)\n",
    "#         hu_moments = cv2.HuMoments(cv2.moments(feature_poly)).flatten()\n",
    "#         triangle_data.append(hu_moments[0:4])\n",
    "# #         print('Hu moments of given image are {}'.format(hu_moments))\n",
    "        \n",
    "#         count += 1"
   ]
  },
  {
   "cell_type": "code",
   "execution_count": 32,
   "metadata": {},
   "outputs": [
    {
     "name": "stdout",
     "output_type": "stream",
     "text": [
      "Correct rate:0.3\n"
     ]
    }
   ],
   "source": [
    "# result = 0\n",
    "# for i in triangle_data:\n",
    "#     predict = clf.predict([i])[0]\n",
    "# #     predict = gnb.predict([i])[0]\n",
    "#     if predict == 'Triangle':\n",
    "#         result += 1\n",
    "# print('Correct rate:{}'.format(result/len(triangle_data)))"
   ]
  },
  {
   "cell_type": "code",
   "execution_count": 32,
   "metadata": {},
   "outputs": [
    {
     "data": {
      "text/plain": [
       "'Triangle'"
      ]
     },
     "execution_count": 32,
     "metadata": {},
     "output_type": "execute_result"
    }
   ],
   "source": []
  },
  {
   "cell_type": "code",
   "execution_count": null,
   "metadata": {},
   "outputs": [],
   "source": []
  }
 ],
 "metadata": {
  "kernelspec": {
   "display_name": "Python 3",
   "language": "python",
   "name": "python3"
  },
  "language_info": {
   "codemirror_mode": {
    "name": "ipython",
    "version": 3
   },
   "file_extension": ".py",
   "mimetype": "text/x-python",
   "name": "python",
   "nbconvert_exporter": "python",
   "pygments_lexer": "ipython3",
   "version": "3.6.4"
  }
 },
 "nbformat": 4,
 "nbformat_minor": 2
}
