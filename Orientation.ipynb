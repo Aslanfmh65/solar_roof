{
 "cells": [
  {
   "cell_type": "code",
   "execution_count": 1,
   "metadata": {},
   "outputs": [
    {
     "name": "stdout",
     "output_type": "stream",
     "text": [
      "/anaconda2/envs/py36-test/bin/python3\n"
     ]
    }
   ],
   "source": [
    "import numpy as np\n",
    "import matplotlib.pyplot as plt\n",
    "from matplotlib import patches\n",
    "import cv2\n",
    "from scipy import ndimage\n",
    "from skimage import measure\n",
    "from skimage import util\n",
    "from pylab import *\n",
    "import itertools\n",
    "import sys\n",
    "%matplotlib inline\n",
    "print(sys.executable)"
   ]
  },
  {
   "cell_type": "code",
   "execution_count": 2,
   "metadata": {},
   "outputs": [],
   "source": [
    "from shapedetector import ShapeDetector\n",
    "import argparse\n",
    "import imutils"
   ]
  },
  {
   "cell_type": "code",
   "execution_count": 3,
   "metadata": {},
   "outputs": [],
   "source": [
    "def combinations(iterable, r):\n",
    "    # combinations('ABCD', 2) --> AB AC AD BC BD CD\n",
    "    # combinations(range(4), 3) --> 012 013 023 123\n",
    "    pool = tuple(iterable)\n",
    "    n = len(pool)\n",
    "    if r > n:\n",
    "        return\n",
    "    indices = list(range(r))\n",
    "    yield tuple(pool[i] for i in indices)\n",
    "    while True:\n",
    "        for i in reversed(range(r)):\n",
    "            if indices[i] != i + n - r:\n",
    "                break\n",
    "        else:\n",
    "            return\n",
    "        indices[i] += 1\n",
    "        for j in range(i+1, r):\n",
    "            indices[j] = indices[j-1] + 1\n",
    "        yield tuple(pool[i] for i in indices)"
   ]
  },
  {
   "cell_type": "code",
   "execution_count": 197,
   "metadata": {},
   "outputs": [],
   "source": [
    "def image_moments(part):\n",
    "    i_moments = cv2.moments(part)\n",
    "    \n",
    "    # Get the moments\n",
    "    M00 = i_moments['m00']\n",
    "    M10 = i_moments['m10']\n",
    "    M01 = i_moments['m01']\n",
    "    M20 = i_moments['m20']\n",
    "    M02 = i_moments['m02']\n",
    "    mu00 = M00\n",
    "    mu20 = i_moments['mu20']\n",
    "    mu02 = i_moments['mu02']\n",
    "    mu11 = i_moments['mu11']\n",
    "    \n",
    "    # Centroid locations\n",
    "    centroid_x = M10/M00\n",
    "    centroid_y = M01/M00\n",
    "\n",
    "    # Centroid moments\n",
    "    mu20_p = mu20/mu00\n",
    "    mu02_p = mu02/mu00\n",
    "    mu11_p = mu11/mu00\n",
    "    \n",
    "    # Covariance matrix\n",
    "    c_matrix = np.matrix([[mu20_p, mu11_p],[mu11_p, mu02_p]])\n",
    "    eig_value, eig_vector = np.linalg.eig(c_matrix)\n",
    "    \n",
    "    # Major and minor axis\n",
    "    area = M00\n",
    "    major_axis = np.sqrt(6 * (mu20_p + mu02_p + np.sqrt(4 * mu11_p**2 + (mu20_p - mu02_p)**2)))\n",
    "    minor_axis = np.sqrt(6 * (mu20_p + mu02_p - np.sqrt(4 * mu11_p**2 + (mu20_p - mu02_p)**2)))\n",
    "    \n",
    "    # Orientation\n",
    "    orientation = 0.5*np.arctan((2*mu11_p)/(mu20_p-mu02_p))\n",
    "    \n",
    "    return major_axis, minor_axis, orientation, centroid_x, centroid_y, area, eig_value, eig_vector"
   ]
  },
  {
   "cell_type": "code",
   "execution_count": 198,
   "metadata": {},
   "outputs": [],
   "source": [
    "def endpoint_angle(overlap):\n",
    "    \n",
    "    major_axis, minor_axis, orientation, centroid_x, centroid_y, area, eig_value, eig_vector = image_moments(overlap)\n",
    "    end_points = []\n",
    "    angles = []\n",
    "    centroid = [centroid_x, centroid_y]\n",
    "    \n",
    "    if (eig_value[0] > eig_value[1]):\n",
    "        if orientation > 0:\n",
    "            angles.append(orientation)\n",
    "            angles.append(orientation - pi)\n",
    "                \n",
    "            end_points.append(centroid_x + (major_axis/2)*cos(abs(orientation)))\n",
    "            end_points.append(centroid_y + (major_axis/2)*sin(abs(orientation)))\n",
    "                \n",
    "            end_points.append(centroid_x - (major_axis/2)*cos(abs(orientation)))\n",
    "            end_points.append(centroid_y - (major_axis/2)*sin(abs(orientation)))\n",
    "                \n",
    "        else:\n",
    "            angles.append(orientation)\n",
    "            angles.append(orientation + pi)\n",
    "                \n",
    "            end_points.append(centroid_x + (major_axis/2)*cos(abs(orientation)))\n",
    "            end_points.append(centroid_y - (major_axis/2)*sin(abs(orientation)))\n",
    "                \n",
    "            end_points.append(centroid_x - (major_axis/2)*cos(abs(orientation)))\n",
    "            end_points.append(centroid_y + (major_axis/2)*sin(abs(orientation)))\n",
    "    else:\n",
    "        angles.append(orientation - pi/2)\n",
    "        angles.append(orientation + pi/2)\n",
    "            \n",
    "        if orientation > 0:\n",
    "            end_points.append(centroid_x + (major_axis/2)*sin(abs(orientation)))\n",
    "            end_points.append(centroid_y - (major_axis/2)*cos(abs(orientation)))\n",
    "                \n",
    "            end_points.append(centroid_x - (major_axis/2)*sin(abs(orientation)))\n",
    "            end_points.append(centroid_y + (major_axis/2)*cos(abs(orientation)))\n",
    "                \n",
    "        else:\n",
    "            end_points.append(centroid_x - (major_axis/2)*sin(abs(orientation)))\n",
    "            end_points.append(centroid_y - (major_axis/2)*cos(abs(orientation)))\n",
    "                \n",
    "            end_points.append(centroid_x + (major_axis/2)*sin(abs(orientation)))\n",
    "            end_points.append(centroid_y + (major_axis/2)*cos(abs(orientation)))\n",
    "                \n",
    "\n",
    "    return end_points, angles, centroid, orientation, eig_value"
   ]
  },
  {
   "cell_type": "code",
   "execution_count": null,
   "metadata": {},
   "outputs": [],
   "source": [
    "def side_logic(eig_value, orientation, part_centroid, end_points, contact_part):\n",
    "    \n",
    "    left_right = []\n",
    "    \n",
    "    for i in contact_part:\n",
    "        d = (part_centroid[i][0] - end_points[0])*(end_points[3]-end_points[1])- \\\n",
    "        (part_centroid[i][1]-end_points[1])*(end_points[2]-end_points[0])\n",
    "        \n",
    "        if eig_value[0] > eig_value[1]:\n",
    "            if orientation > 0:\n",
    "                if d > 0:\n",
    "                    left_right = [1 0]\n",
    "                else:\n",
    "                    left_right = [0 1]\n",
    "            else:\n",
    "                if d > 0:\n",
    "                    left_right = [0 1]\n",
    "                else:\n",
    "                    left_right = [1 0]\n",
    "        else:\n",
    "            if orientation > 0:\n",
    "                if d > 0:\n",
    "                    left_right = [0 1]\n",
    "                else:\n",
    "                    left_right = [1 0]\n",
    "            else:\n",
    "                if d > 0:\n",
    "                    left_right = [0 1]\n",
    "                else:\n",
    "                    left_right = [1 0]\n",
    "                    "
   ]
  },
  {
   "cell_type": "markdown",
   "metadata": {},
   "source": [
    "## Process the imported image"
   ]
  },
  {
   "cell_type": "code",
   "execution_count": 187,
   "metadata": {},
   "outputs": [
    {
     "name": "stdout",
     "output_type": "stream",
     "text": [
      "Shape: (842, 1336)\n"
     ]
    },
    {
     "data": {
      "image/png": "[encoded data removed]",
      "text/plain": [
       "<matplotlib.figure.Figure at 0x1112a4c88>"
      ]
     },
     "metadata": {},
     "output_type": "display_data"
    }
   ],
   "source": [
    "# Read in the image\n",
    "image = cv2.imread('perfect_outline/roof8.png')\n",
    "image = cv2.cvtColor(image, cv2.COLOR_BGR2RGB)\n",
    "image = cv2.cvtColor(image, cv2.COLOR_RGB2GRAY)\n",
    "\n",
    "ret, thresh = cv2.threshold(image,0,255,cv2.THRESH_BINARY_INV+cv2.THRESH_OTSU)\n",
    "image = util.invert(image)\n",
    "plt.imshow(thresh, cmap='gray')\n",
    "print('Shape:',image.shape)"
   ]
  },
  {
   "cell_type": "code",
   "execution_count": 188,
   "metadata": {},
   "outputs": [
    {
     "name": "stdout",
     "output_type": "stream",
     "text": [
      "Shape: (842, 1336)\n"
     ]
    }
   ],
   "source": [
    "inverted_gray_line = util.invert(image)\n",
    "# plt.imshow(inverted_gray_line, cmap='gray')\n",
    "print('Shape:',inverted_gray_line.shape)"
   ]
  },
  {
   "cell_type": "code",
   "execution_count": 189,
   "metadata": {},
   "outputs": [
    {
     "name": "stdout",
     "output_type": "stream",
     "text": [
      "Shape: (842, 1336)\n",
      "The Number of Labeled Feature: 9\n"
     ]
    },
    {
     "data": {
      "image/png": "[encoded data removed]",
      "text/plain": [
       "<matplotlib.figure.Figure at 0x114bbb4e0>"
      ]
     },
     "metadata": {},
     "output_type": "display_data"
    }
   ],
   "source": [
    "# Label the non-zero features in image \n",
    "labeled_array, num_features = ndimage.label(inverted_gray_line)\n",
    "segmented_features = ndimage.find_objects(labeled_array)\n",
    "# labeled_array = measure.label(inverted_gray_line)\n",
    "labeled_array=np.float32(labeled_array)\n",
    "\n",
    "plt.imshow(labeled_array*.2, cmap='gray')\n",
    "print('Shape:',inverted_gray_line.shape)\n",
    "print('The Number of Labeled Feature:', num_features)"
   ]
  },
  {
   "cell_type": "markdown",
   "metadata": {},
   "source": [
    "## Extract feature shapes"
   ]
  },
  {
   "cell_type": "code",
   "execution_count": 190,
   "metadata": {},
   "outputs": [
    {
     "name": "stdout",
     "output_type": "stream",
     "text": [
      "Segmented Region 1 : [array([  0,   0,   0, ..., 841, 841, 841]), array([   0,    1,    2, ..., 1333, 1334, 1335])]\n",
      "Segmented Region 2 : [array([128, 129, 129, ..., 411, 411, 412]), array([145, 145, 146, ..., 371, 372, 371])]\n",
      "Segmented Region 3 : [array([155, 156, 156, ..., 646, 647, 647]), array([142, 142, 143, ...,  85,  83,  84])]\n",
      "Segmented Region 4 : [array([201, 202, 202, ..., 691, 692, 693]), array([655, 654, 655, ..., 596, 596, 596])]\n",
      "Segmented Region 5 : [array([216, 216, 216, ..., 672, 672, 672]), array([810, 811, 812, ..., 978, 979, 980])]\n",
      "Segmented Region 6 : [array([257, 257, 257, ..., 704, 704, 705]), array([1054, 1055, 1056, ..., 1174, 1175, 1175])]\n",
      "Segmented Region 7 : [array([290, 290, 290, ..., 431, 431, 431]), array([662, 663, 664, ..., 905, 906, 907])]\n",
      "Segmented Region 8 : [array([412, 412, 413, ..., 551, 551, 551]), array([647, 648, 647, ..., 743, 744, 745])]\n",
      "Segmented Region 9 : [array([436, 437, 437, ..., 716, 716, 716]), array([368, 367, 368, ..., 591, 592, 593])]\n",
      "9\n"
     ]
    }
   ],
   "source": [
    "count = 1\n",
    "shape = []\n",
    "for i in range(1,num_features+1):\n",
    "    region = list(np.where(labeled_array == i))\n",
    "    shape.append(region)\n",
    "    print('Segmented Region', count,':', region)\n",
    "    count += 1\n",
    "print(len(shape))"
   ]
  },
  {
   "cell_type": "code",
   "execution_count": 191,
   "metadata": {},
   "outputs": [
    {
     "name": "stdout",
     "output_type": "stream",
     "text": [
      "Feature shape 1 occupies 14.746155513195314% of total area.\n",
      "Feature shape 2 occupies 13.606630606405046% of total area.\n",
      "Feature shape 3 occupies 13.520386726403451% of total area.\n",
      "Feature shape 4 occupies 16.609465597537408% of total area.\n",
      "Feature shape 5 occupies 17.26115973693405% of total area.\n",
      "Feature shape 6 occupies 4.5658394625458305% of total area.\n",
      "Feature shape 7 occupies 5.349774217944919% of total area.\n",
      "Feature shape 8 occupies 14.34058813903398% of total area.\n"
     ]
    },
    {
     "data": {
      "text/plain": [
       "<matplotlib.figure.Figure at 0x11faa67f0>"
      ]
     },
     "metadata": {},
     "output_type": "display_data"
    }
   ],
   "source": [
    "shape_dict = {}\n",
    "dilated = {}\n",
    "kernel_d = np.ones((30,30),np.uint8)\n",
    "fig = plt.figure()\n",
    "areas = []\n",
    "arc_num = []\n",
    "part_centroid = {}\n",
    "\n",
    "for item in range(0, len(shape)):\n",
    "    vec = {}\n",
    "    for i, j in enumerate(shape[item]):\n",
    "        vec[i] = j\n",
    "    shape_dict[item] = zip(vec[0], vec[1])\n",
    "    arr = np.zeros(inverted_gray_line.shape)\n",
    "    for i in shape_dict[item]:\n",
    "        arr[i] = 1\n",
    "    if item == 0:\n",
    "        arr = util.invert(arr)\n",
    "        outline = arr\n",
    "    else: \n",
    "        dilated[item-1] = cv2.dilate(arr,kernel_d,iterations = 1) # enlarge the feature shape by dialtion\n",
    "        major_axis, minor_axis, orientation, part_cx, part_cy, area, eig_value, eig_vector = image_moments(arr)\n",
    "        areas.append(area)\n",
    "        part_centroid[item-1] = part_cx, part_cy\n",
    "    \n",
    "#         plt.imshow(arr, cmap='gray')\n",
    "#         plt.scatter(part_centroid[item-1][0], part_centroid[item-1][1])\n",
    "#         plt.title('Feature Shape {}'.format(item)), plt.xticks([]), plt.yticks([])\n",
    "#         plt.show()\n",
    "\n",
    "for i in range(len(areas)):\n",
    "    print('Feature shape {} occupies {}% of total area.'.format(i+1, areas[i]/np.sum(areas)*100))    "
   ]
  },
  {
   "cell_type": "markdown",
   "metadata": {},
   "source": [
    "## Image outline"
   ]
  },
  {
   "cell_type": "code",
   "execution_count": 192,
   "metadata": {},
   "outputs": [],
   "source": [
    "# contours = measure.find_contours(outline, 0.8)\n",
    "\n",
    "# black = np.zeros_like(outline)\n",
    "\n",
    "# fig, ax = plt.subplots()\n",
    "# ax.imshow(black, interpolation='nearest', cmap=plt.cm.gray)\n",
    "\n",
    "# for n, contour in enumerate(contours):\n",
    "#     a = ax.plot(contour[:, 1], contour[:, 0], color='white', linewidth=5)"
   ]
  },
  {
   "cell_type": "code",
   "execution_count": 193,
   "metadata": {},
   "outputs": [],
   "source": [
    "kernel_e = np.ones((30,30),np.uint8)\n",
    "outline = outline.astype(np.uint8)"
   ]
  },
  {
   "cell_type": "code",
   "execution_count": 194,
   "metadata": {},
   "outputs": [
    {
     "data": {
      "image/png": "[encoded data removed]",
      "text/plain": [
       "<matplotlib.figure.Figure at 0x114bc0a58>"
      ]
     },
     "metadata": {},
     "output_type": "display_data"
    }
   ],
   "source": [
    "_, contours, _ = cv2.findContours(outline, cv2.RETR_EXTERNAL, cv2.CHAIN_APPROX_SIMPLE)\n",
    "black = np.zeros_like(outline)\n",
    "for cnt in contours:\n",
    "    epsilon = 0.01*cv2.arcLength(cnt, True)\n",
    "    approx = cv2.approxPolyDP(cnt, epsilon, True)  # approximate corner points in polygon\n",
    "    outline_d = cv2.drawContours(black, [approx], 0, (255, 255, 255), 7)\n",
    "    outline_d = cv2.dilate(outline_d,kernel_e,iterations = 1)\n",
    "    \n",
    "plt.figure(\"Example 2\")\n",
    "plt.imshow(outline_d, cmap='gray')\n",
    "plt.show()"
   ]
  },
  {
   "cell_type": "markdown",
   "metadata": {},
   "source": [
    "## External edge"
   ]
  },
  {
   "cell_type": "code",
   "execution_count": 195,
   "metadata": {},
   "outputs": [],
   "source": [
    "selected_area = []\n",
    "h = []\n",
    "for i in range(len(dilated)):\n",
    "    summation = dilated[i] + outline_d/255\n",
    "    \n",
    "    if 2.0 in summation:\n",
    "        overlap = np.zeros_like(summation)\n",
    "        \n",
    "        for ii in range(len(overlap)):\n",
    "            selected_area = [iii for iii, x in enumerate(summation[ii]) if x == 2.0]\n",
    "            overlap[ii][selected_area] = 1\n",
    "            \n",
    "#         plt.imshow(overlap, cmap='gray')\n",
    "#         plt.show()"
   ]
  },
  {
   "cell_type": "markdown",
   "metadata": {},
   "source": [
    "## Internal edge"
   ]
  },
  {
   "cell_type": "code",
   "execution_count": 200,
   "metadata": {},
   "outputs": [
    {
     "name": "stdout",
     "output_type": "stream",
     "text": [
      "[0, 1]\n",
      "Part 1  and part 2 contact together\n",
      "Two possible planes' angle are -128.8509101170993 and 51.14908988290072\n",
      "Line orientation angle is -38.85091011709928, and d value is 46955.372528646665\n",
      "eigenvalue x 49.504545753273305 and eigenvalue y 10910.032267188344\n",
      "[0, 2]\n",
      "Part 1  and part 3 contact together\n",
      "Two possible planes' angle are -39.2057101482291 and 140.79428985177088\n",
      "Line orientation angle is -39.2057101482291, and d value is -48459.9541193022\n",
      "eigenvalue x 11471.959746318738 and eigenvalue y 49.467387986148424\n",
      "[0, 7]\n",
      "Part 1  and part 8 contact together\n",
      "Two possible planes' angle are 1.3827823613428956 and -178.6172176386571\n",
      "Line orientation angle is 1.3827823613428956, and d value is -5800.417108468886\n",
      "eigenvalue x 82.46058368695331 and eigenvalue y 2.802477881884912\n",
      "[1, 2]\n",
      "Part 2  and part 3 contact together\n",
      "Two possible planes' angle are -88.90169718066286 and 91.09830281933712\n",
      "Line orientation angle is 1.0983028193371358, and d value is -5614.109370753324\n",
      "eigenvalue x 1.9443491319410526 and eigenvalue y 84.50818251362857\n",
      "[1, 7]\n",
      "Part 2  and part 8 contact together\n",
      "Two possible planes' angle are -39.241474404608596 and 140.7585255953914\n",
      "Line orientation angle is -39.241474404608596, and d value is -45756.5584059741\n",
      "eigenvalue x 11356.223945681786 and eigenvalue y 49.551201544502874\n",
      "[2, 5]\n",
      "Part 3  and part 6 contact together\n",
      "Two possible planes' angle are -83.44740977668603 and 96.55259022331397\n",
      "Line orientation angle is 6.552590223313976, and d value is -12325.383414270844\n",
      "eigenvalue x 20.17584057420413 and eigenvalue y 1511.4106285129938\n",
      "[2, 6]\n",
      "Part 3  and part 7 contact together\n",
      "Two possible planes' angle are -83.38485070906968 and 96.61514929093032\n",
      "Line orientation angle is 6.6151492909303204, and d value is -14106.435457641779\n",
      "eigenvalue x 20.280986806903684 and eigenvalue y 2008.5775276365696\n",
      "[2, 7]\n",
      "Part 3  and part 8 contact together\n",
      "Two possible planes' angle are -128.83993752084595 and 51.16006247915403\n",
      "Line orientation angle is -38.83993752084598, and d value is 45679.38974143665\n",
      "eigenvalue x 49.5958191018326 and eigenvalue y 10889.327652617114\n",
      "[3, 4]\n",
      "Part 4  and part 5 contact together\n",
      "Two possible planes' angle are -82.33093954688835 and 97.66906045311165\n",
      "Line orientation angle is 7.66906045311166, and d value is -47232.828207094324\n",
      "eigenvalue x 21.519806178266663 and eigenvalue y 16462.05689351455\n",
      "[3, 5]\n",
      "Part 4  and part 6 contact together\n",
      "Two possible planes' angle are -134.46881998368136 and 45.53118001631866\n",
      "Line orientation angle is -44.468819983681335, and d value is -2586.5788616514\n",
      "eigenvalue x 49.734916198578276 and eigenvalue y 3241.3356183797905\n",
      "[3, 6]\n",
      "Part 4  and part 7 contact together\n",
      "Two possible planes' angle are -32.38545881355024 and 147.61454118644977\n",
      "Line orientation angle is -32.38545881355024, and d value is -2249.0547358777726\n",
      "eigenvalue x 3704.116869603999 and eigenvalue y 54.62234303595278\n",
      "[5, 6]\n",
      "Part 6  and part 7 contact together\n",
      "Two possible planes' angle are 7.775077695914681 and -172.22492230408534\n",
      "Line orientation angle is 7.775077695914681, and d value is -15988.722611928066\n",
      "eigenvalue x 6786.766210633373 and eigenvalue y 21.469874315303485\n"
     ]
    }
   ],
   "source": [
    "combination = combinations(dilated,2)\n",
    "select_area = []\n",
    "contact_count = len(dilated)*[0]\n",
    "contact_part = []\n",
    "shape_overlap = {}\n",
    "\n",
    "for i in combination:\n",
    "    summation = dilated[i[0]] + dilated[i[1]]\n",
    "    if 2.0 in summation:\n",
    "        contact_count[i[0]] += 1\n",
    "        contact_count[i[1]] += 1\n",
    "        contact_part = [i[0], i[1]]\n",
    "        print(contact_part)\n",
    "        overlap = np.zeros_like(summation)\n",
    "        for ii in range(len(overlap)):\n",
    "            selected_area = [iii for iii,x in enumerate(summation[ii]) if x == 2]\n",
    "            overlap[ii][selected_area] = 1\n",
    "            \n",
    "            \n",
    "        end_points, angles, centroid, orientation, eig_value = endpoint_angle(overlap)\n",
    "        \n",
    "        d = (part_centroid[i[0]][0] - end_points[0])*(end_points[3]-end_points[1])- \\\n",
    "        (part_centroid[i[0]][1]-end_points[1])*(end_points[2]-end_points[0])\n",
    "        \n",
    "        # Show the contact line between faeture shapes\n",
    "#         plt.imshow(overlap, cmap='gray')\n",
    "#         plt.scatter(centroid[0], centroid[1])\n",
    "#         plt.scatter(end_points[0], end_points[1])\n",
    "#         plt.scatter(end_points[2], end_points[3])\n",
    "#         plt.scatter(part_centroid[i[0]][0], part_centroid[i[0]][1])\n",
    "#         plt.scatter(part_centroid[i[1]][0], part_centroid[i[1]][1])\n",
    "        plt.show()\n",
    "        print(\"Part {}  and part {} contact together\".format(i[0]+1,i[1]+1))\n",
    "        print(\"Two possible planes' angle are {} and {}\".format(angles[0]*180/pi, angles[1]*180/pi))\n",
    "        print(\"Line orientation angle is {}, and d value is {}\".format((orientation*180/pi),d))\n",
    "        print(\"eigenvalue x {} and eigenvalue y {}\".format(eig_value[0], eig_value[1]))\n",
    "             "
   ]
  },
  {
   "cell_type": "code",
   "execution_count": 86,
   "metadata": {},
   "outputs": [
    {
     "data": {
      "text/plain": [
       "[3, 2, 2, 3]"
      ]
     },
     "execution_count": 86,
     "metadata": {},
     "output_type": "execute_result"
    }
   ],
   "source": [
    "contact_count"
   ]
  },
  {
   "cell_type": "code",
   "execution_count": null,
   "metadata": {},
   "outputs": [],
   "source": []
  }
 ],
 "metadata": {
  "kernelspec": {
   "display_name": "Python 3",
   "language": "python",
   "name": "python3"
  },
  "language_info": {
   "codemirror_mode": {
    "name": "ipython",
    "version": 3
   },
   "file_extension": ".py",
   "mimetype": "text/x-python",
   "name": "python",
   "nbconvert_exporter": "python",
   "pygments_lexer": "ipython3",
   "version": "3.6.4"
  }
 },
 "nbformat": 4,
 "nbformat_minor": 2
}
